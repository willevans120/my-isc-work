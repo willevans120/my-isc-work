{
 "cells": [
  {
   "cell_type": "markdown",
   "metadata": {},
   "source": [
    "# Exercise 12: Inheritance with Object Oriented Programming (OOP)"
   ]
  },
  {
   "cell_type": "markdown",
   "metadata": {},
   "source": [
    "## Aims: Introduce the concept of inheritance in OOP programming"
   ]
  },
  {
   "cell_type": "markdown",
   "metadata": {},
   "source": [
    "### Issues covered:\n",
    "- Inheritance\n",
    "- Making your own class\n",
    "- Using the \\_\\_init__ method"
   ]
  },
  {
   "cell_type": "markdown",
   "metadata": {},
   "source": [
    "In the presentation we saw an example of extending the `DataStore` class to make a `TemperatureStore` which would convert input in Celcius to Kelvin.\n",
    "\n",
    "```python\n",
    "class TemperatureStore(DataStore)\n",
    "\n",
    "    def add_measurement(self, date, value):\n",
    "        \n",
    "        # convert to kelvin\n",
    "        value += 272.15\n",
    "        \n",
    "        self.measurements.append(value)\n",
    "        self.times.append(date)\n",
    "```\n",
    "\n",
    "This modifies the behaviour of the `add_measurements` method. A process called polymorphism (you can google it if you want to go down a rabbit hole)."
   ]
  },
  {
   "cell_type": "markdown",
   "metadata": {},
   "source": [
    "## 1. Let's extend our `DataStore` using inheritance"
   ]
  },
  {
   "cell_type": "markdown",
   "metadata": {},
   "source": [
    "We are going to create a new class which accumulates the values given to it. This could be useful for storing rainfall values or anything else which benefits from knowing an accumulated value.\n",
    "\n",
    "This is what your new class will do, after some changes:\n",
    "- Store the cumulative total when adding a measurement\n",
    "\n"
   ]
  },
  {
   "cell_type": "markdown",
   "metadata": {},
   "source": [
    "Create a new class called `AccumulatingStore` which inherits from `DataStore`."
   ]
  },
  {
   "cell_type": "markdown",
   "metadata": {},
   "source": [
    "Override the `add_measurement` method (like in the example above) to accumulate the values which are added."
   ]
  },
  {
   "cell_type": "markdown",
   "metadata": {},
   "source": [
    "```python\n",
    "    def add_measurement(self, date, value):\n",
    "        \"\"\"\n",
    "        Add measurement to the accumulation\n",
    "\n",
    "        :param date: Date of measurement\n",
    "        :param value: Measurement value\n",
    "        \"\"\"\n",
    "\n",
    "        self.times.append(date)\n",
    "        \n",
    "        last_measurement = 0\n",
    "\n",
    "        # Get the last measurement if we already have some\n",
    "        if self.measurements:\n",
    "            last_measurement = self.measurements[-1]\n",
    "\n",
    "        # add the accumulated value\n",
    "        self.measurements.append(last_measurement + value)\n",
    "```"
   ]
  },
  {
   "cell_type": "markdown",
   "metadata": {},
   "source": [
    "Try out your new method. Add values `1`,`2`,`3` to your store and print the data using `print_measurements`"
   ]
  },
  {
   "cell_type": "code",
   "execution_count": 1,
   "metadata": {},
   "outputs": [
    {
     "name": "stdout",
     "output_type": "stream",
     "text": [
      "2021-05-1 1\n",
      "2021-05-2 2\n",
      "2021-05-3 3\n"
     ]
    }
   ],
   "source": [
    "from data_store import AccumulatingStore\n",
    "rain_store = AccumulatingStore()\n",
    "\n",
    "for i in range(1,4):\n",
    "    rain_store.add_measurement(f'2021-05-{i}',i)\n",
    "\n",
    "rain_store.print_measurements()"
   ]
  },
  {
   "cell_type": "markdown",
   "metadata": {},
   "source": [
    "What if we wanted to be able to keep the raw values?\n",
    "\n",
    "## 2. Let's add an additional class variable to store the accumulation"
   ]
  },
  {
   "cell_type": "markdown",
   "metadata": {},
   "source": [
    "In this next section, you will need to use `super()` so that you can extend the functionality of your methods without having to duplicate the code.\n",
    "\n",
    "`super()` is used within your method to call the method from the base class. In our `AccumulatingStore` the base class is `DataStore`. When we extend methods, we want to call the code from `DataStore` and then run our code in the new class. \n",
    "\n",
    "It is called using `super().<method_name>()`\n",
    "\n",
    "If the method has any parameters, make sure to add them in too. e.g. `super().<method_name>(arg1, arg2)`\n",
    "\n",
    "Here is an example to demonstrate the point:\n",
    "\n",
    "```python\n",
    "\n",
    "class BaseClass:\n",
    "    \n",
    "    def __init__():\n",
    "        \n",
    "        self.data = []\n",
    "    \n",
    "        \n",
    "class SubClass(BaseClass):\n",
    "    \n",
    "    def __init__(self, name):\n",
    "\n",
    "        super().__init__()\n",
    "        self.name = name\n",
    "```"
   ]
  },
  {
   "cell_type": "markdown",
   "metadata": {},
   "source": [
    "Add an `__init__` method to your `AccumultingStore` using super to setup the `times` and `measurements` data lists and add an `accumulation` class variable with and empty list as the value `[]`"
   ]
  },
  {
   "cell_type": "markdown",
   "metadata": {},
   "source": [
    "```python\n",
    "def __init__(self):\n",
    "    super().__init__()\n",
    "    self.accumulation = []\n",
    "```"
   ]
  },
  {
   "cell_type": "markdown",
   "metadata": {},
   "source": [
    "Now modify your `add_measurement` method to call out to the `DataStore` method to add the `data` and `value` to the class variables and then add your accumulated value to `self.accumulation`"
   ]
  },
  {
   "cell_type": "markdown",
   "metadata": {},
   "source": [
    "```python\n",
    "def add_measurement(self, date, value):\n",
    "\n",
    "    super().add_measurement(date, value)\n",
    "\n",
    "    # set a 0 value for the case where this is the first measurement\n",
    "    last_acc = 0\n",
    "\n",
    "    # Get the last accumulated value if we already have some\n",
    "    if self.accumulation:\n",
    "        last_acc = self.acc[-1]\n",
    "\n",
    "        # add the accumulated value\n",
    "        self.accumulation.append(last_acc + value)\n",
    "    \n",
    "    \n",
    "```"
   ]
  },
  {
   "cell_type": "markdown",
   "metadata": {},
   "source": [
    "Add some data to your store and check it works by looking at the class variables"
   ]
  },
  {
   "cell_type": "code",
   "execution_count": 2,
   "metadata": {},
   "outputs": [
    {
     "name": "stdout",
     "output_type": "stream",
     "text": [
      "['2021-05-1', '2021-05-2', '2021-05-3']\n",
      "[1, 2, 3]\n",
      "[1, 3, 6]\n"
     ]
    }
   ],
   "source": [
    "from data_store import AccumulatingStore\n",
    "\n",
    "rainfall_store = AccumulatingStore()\n",
    "for i in range(1,4):\n",
    "    rainfall_store.add_measurement(f'2021-05-{i}', i)\n",
    "\n",
    "print(rainfall_store.times)\n",
    "print(rainfall_store.measurements)\n",
    "print(rainfall_store.accumulation)\n",
    "    "
   ]
  }
 ],
 "metadata": {
  "kernelspec": {
   "display_name": "Python 3 + Jaspy",
   "language": "python",
   "name": "jaspy"
  },
  "language_info": {
   "codemirror_mode": {
    "name": "ipython",
    "version": 3
   },
   "file_extension": ".py",
   "mimetype": "text/x-python",
   "name": "python",
   "nbconvert_exporter": "python",
   "pygments_lexer": "ipython3",
   "version": "3.7.1"
  }
 },
 "nbformat": 4,
 "nbformat_minor": 4
}
