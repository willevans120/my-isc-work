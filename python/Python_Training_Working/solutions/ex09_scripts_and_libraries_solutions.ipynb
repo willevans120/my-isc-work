{
 "cells": [
  {
   "cell_type": "markdown",
   "metadata": {},
   "source": [
    "# Excercise 9: Scripts and Libraries"
   ]
  },
  {
   "cell_type": "markdown",
   "metadata": {},
   "source": [
    "## Aim: Introduce scripts and importing from libraries"
   ]
  },
  {
   "cell_type": "markdown",
   "metadata": {},
   "source": [
    "### Issues covered:\n",
    "- Become familiar with running a python script\n",
    "- Working with command line arguments\n",
    "- Create your own library\n",
    "- Learn about the `__init__.py` module\n",
    "- Use a script to import your own library to call a function"
   ]
  },
  {
   "cell_type": "markdown",
   "metadata": {},
   "source": [
    "This excercise will require you to use the tools a little differently, making use of Jupyter as a handy file editor and the command line for running the commands."
   ]
  },
  {
   "cell_type": "markdown",
   "metadata": {},
   "source": [
    "**NOTE: Changes to the file system on JASMIN will not take immediate effect but should be reflected after a few seconds**"
   ]
  },
  {
   "cell_type": "markdown",
   "metadata": {},
   "source": [
    "## 1. Let's make a python library called table_reader\n",
    "\n",
    "Create a directory (in the Linux shell) called `table_reader`\n",
    "\n",
    "Create a file inside the `table_reader` directory called `__init__.py`.\n",
    "\n",
    "Add a variable in the `__init__.py` file to hold the version number of the library."
   ]
  },
  {
   "cell_type": "markdown",
   "metadata": {},
   "source": [
    "Perform these commands in your linux terminal:\n",
    "\n",
    "```bash\n",
    "mkdir table_reader\n",
    "touch table_reader/__init__.py\n",
    "```\n",
    "\n",
    "Example for your `__init__.py` file:\n",
    "\n",
    "```python\n",
    "VERSION = 1.0\n",
    "```"
   ]
  },
  {
   "cell_type": "markdown",
   "metadata": {},
   "source": [
    "Test if you can import the library"
   ]
  },
  {
   "cell_type": "markdown",
   "metadata": {},
   "source": [
    "`python -c \"import table_reader\"`"
   ]
  },
  {
   "cell_type": "markdown",
   "metadata": {},
   "source": [
    "Test if you can import the library and then print it's version"
   ]
  },
  {
   "cell_type": "markdown",
   "metadata": {},
   "source": [
    "`python -c \"import table_reader; print(table_reader.VERSION)\"`"
   ]
  },
  {
   "cell_type": "markdown",
   "metadata": {},
   "source": [
    "## 2. Lets create the \"read_table.py\" module inside our library"
   ]
  },
  {
   "cell_type": "markdown",
   "metadata": {},
   "source": [
    "Copy the file \"example_code/read_table.py\" to the \"table_reader\" directory"
   ]
  },
  {
   "cell_type": "markdown",
   "metadata": {},
   "source": [
    "```bash\n",
    "cp example_code/read_table.py table_reader/\n",
    "```"
   ]
  },
  {
   "cell_type": "markdown",
   "metadata": {},
   "source": [
    "Have a look inside the \"table_reader/read_table.py\" module. Do you understand what should happen in the \"print_table\" function?"
   ]
  },
  {
   "cell_type": "markdown",
   "metadata": {},
   "source": [
    "Test if you can import the module by running (in your linux terminal):\n",
    "\n",
    "`python -c \"import table_reader.read_table\"`"
   ]
  },
  {
   "cell_type": "markdown",
   "metadata": {},
   "source": [
    "Test if you can import the \"print_table\" function from the module by running:\n",
    "\n",
    "`python -c \"from table_reader.read_table import print_table\"`"
   ]
  },
  {
   "cell_type": "markdown",
   "metadata": {},
   "source": [
    "## 3. Let's write a 4 line script that allows users to interact with our library"
   ]
  },
  {
   "cell_type": "markdown",
   "metadata": {},
   "source": [
    "Create a script in the current directory (not in \"table_reader\" called \"print_table.py\" containing lines:\n",
    "\n",
    "- L1: Import the `sys` module\n",
    "- L2: Import the `print_table` function from the `table_reader.read_table` module\n",
    "- L3: Set a variable `headers` to all command-line arguments sent to the script (`sys.argv`)\n",
    "- L4: Call the `print_table` function with the variable `headers`"
   ]
  },
  {
   "cell_type": "markdown",
   "metadata": {},
   "source": [
    "Suitable contents for the print_table.py script:\n",
    "\n",
    "```python\n",
    "import sys\n",
    "from table_reader.read_table import print_table\n",
    "\n",
    "headers = sys.argv[1:]\n",
    "print_table(headers)                         \n",
    "```"
   ]
  },
  {
   "cell_type": "markdown",
   "metadata": {},
   "source": [
    "Test running the script without any arguments"
   ]
  },
  {
   "cell_type": "markdown",
   "metadata": {},
   "source": [
    "```bash\n",
    "python print_table.py\n",
    "```"
   ]
  },
  {
   "cell_type": "markdown",
   "metadata": {},
   "source": [
    "Test running the script with some of the columns selected (**HINT: Check the read_table.py for the possible headers**)"
   ]
  },
  {
   "cell_type": "markdown",
   "metadata": {},
   "source": [
    "```bash\n",
    "python print_table.py time temperature\n",
    "```"
   ]
  },
  {
   "cell_type": "markdown",
   "metadata": {},
   "source": [
    "What happens if you run the script and supply a header name which is not in the table?"
   ]
  },
  {
   "cell_type": "markdown",
   "metadata": {},
   "source": [
    "### Error handling"
   ]
  },
  {
   "cell_type": "markdown",
   "metadata": {},
   "source": [
    "If you have time, you could try to extending the `print_table` function to add error handling the following cases:\n",
    "\n",
    "- empty list of headers\n",
    "- header not in the data"
   ]
  },
  {
   "cell_type": "markdown",
   "metadata": {},
   "source": [
    "```python\n",
    "def print_table(column_names):\n",
    "    \"\"\"\n",
    "    This programme displays a table on the screen\n",
    "    but only shows the selected columns.\n",
    "\n",
    "    :param column_names: Columns to print\n",
    "    \"\"\"\n",
    "    \n",
    "    # Don't print loads of blank lines if no columns selected.\n",
    "    # This is OK for this case where we have 4 rows, but what \n",
    "    # if we had 100? or 1000?\n",
    "    if not column_names:\n",
    "        return\n",
    "\n",
    "    # Find the column indices for the requested columns\n",
    "    indices = []\n",
    "    for header in column_names:\n",
    "        \n",
    "        # Check if the header is valid\n",
    "        if header not in headers:\n",
    "            print(f'WARNING: {header} not a valid header')\n",
    "            \n",
    "        indices.append(headers.index(header))\n",
    "\n",
    "    # Print the headers\n",
    "    output = [headers[i] for i in indices]\n",
    "    print('\\t'.join(output))\n",
    "\n",
    "    # Print data\n",
    "    for row in data:\n",
    "        output = [str(row[i]) for i in indices]\n",
    "        print('\\t'.join(output))\n",
    "```"
   ]
  }
 ],
 "metadata": {
  "kernelspec": {
   "display_name": "Python 3 + Jaspy",
   "language": "python",
   "name": "jaspy"
  },
  "language_info": {
   "codemirror_mode": {
    "name": "ipython",
    "version": 3
   },
   "file_extension": ".py",
   "mimetype": "text/x-python",
   "name": "python",
   "nbconvert_exporter": "python",
   "pygments_lexer": "ipython3",
   "version": "3.8.12"
  }
 },
 "nbformat": 4,
 "nbformat_minor": 4
}
