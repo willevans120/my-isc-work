{
 "cells": [
  {
   "cell_type": "markdown",
   "metadata": {},
   "source": [
    "# Exercise 2: Control Flow"
   ]
  },
  {
   "cell_type": "markdown",
   "metadata": {},
   "source": [
    "## Aim: Introduce Python syntax for loops and if statements\n",
    "\n",
    "### Issues covered:\n",
    "- `while` statement (and escaping loops)\n",
    "- `if`/`elif`/`else` statements\n",
    "- indentation\n",
    "- testing for truth"
   ]
  },
  {
   "cell_type": "markdown",
   "metadata": {},
   "source": [
    "## 1. Let's create some while loops"
   ]
  },
  {
   "cell_type": "markdown",
   "metadata": {},
   "source": [
    "Create a never-ending `while` loop (remember: use 4 spaces for indentation)"
   ]
  },
  {
   "cell_type": "code",
   "execution_count": 1,
   "metadata": {},
   "outputs": [
    {
     "ename": "KeyboardInterrupt",
     "evalue": "",
     "output_type": "error",
     "traceback": [
      "\u001b[0;31m---------------------------------------------------------------------------\u001b[0m",
      "\u001b[0;31mKeyboardInterrupt\u001b[0m                         Traceback (most recent call last)",
      "\u001b[0;32m/tmp/ipykernel_5188/1719020762.py\u001b[0m in \u001b[0;36m<module>\u001b[0;34m\u001b[0m\n\u001b[1;32m      1\u001b[0m \u001b[0;32mwhile\u001b[0m \u001b[0;36m1\u001b[0m\u001b[0;34m:\u001b[0m\u001b[0;34m\u001b[0m\u001b[0;34m\u001b[0m\u001b[0m\n\u001b[0;32m----> 2\u001b[0;31m     \u001b[0mx\u001b[0m \u001b[0;34m=\u001b[0m  \u001b[0;36m1\u001b[0m \u001b[0;31m# We're doing something but it's of little significance\u001b[0m\u001b[0;34m\u001b[0m\u001b[0;34m\u001b[0m\u001b[0m\n\u001b[0m\u001b[1;32m      3\u001b[0m     \u001b[0;31m# Press Ctrl+C to escape the loop when running in a terminal, stop button in notebooks\u001b[0m\u001b[0;34m\u001b[0m\u001b[0;34m\u001b[0m\u001b[0;34m\u001b[0m\u001b[0m\n",
      "\u001b[0;31mKeyboardInterrupt\u001b[0m: "
     ]
    }
   ],
   "source": [
    "while 1:\n",
    "    x =  1 # We're doing something but it's of little significance\n",
    "    # Press Ctrl+C to escape the loop when running in a terminal, stop button in notebooks"
   ]
  },
  {
   "cell_type": "markdown",
   "metadata": {},
   "source": [
    "How do you escape this?"
   ]
  },
  {
   "cell_type": "markdown",
   "metadata": {},
   "source": [
    "Create a `while` loop that never gets called"
   ]
  },
  {
   "cell_type": "code",
   "execution_count": 2,
   "metadata": {},
   "outputs": [],
   "source": [
    "while 0:\n",
    "    pass"
   ]
  },
  {
   "cell_type": "markdown",
   "metadata": {},
   "source": [
    "## 2. Lets step through the items in a list using the `for` statement"
   ]
  },
  {
   "cell_type": "markdown",
   "metadata": {},
   "source": [
    "Create a variable called `gases` assigned the list `['He','Ne','Ar','Kr']`"
   ]
  },
  {
   "cell_type": "code",
   "execution_count": 3,
   "metadata": {},
   "outputs": [],
   "source": [
    "gases = ['He', 'Ne', 'Ar', 'Kr']"
   ]
  },
  {
   "cell_type": "markdown",
   "metadata": {},
   "source": [
    "Create a counter variable `count` assigned the value of 0"
   ]
  },
  {
   "cell_type": "code",
   "execution_count": 4,
   "metadata": {},
   "outputs": [],
   "source": [
    "count = 0"
   ]
  },
  {
   "cell_type": "markdown",
   "metadata": {},
   "source": [
    "Start a `while` loop that will loop while `count` is less than 4"
   ]
  },
  {
   "cell_type": "markdown",
   "metadata": {},
   "source": [
    "Within the `while` loop:\n",
    "   - Assign each value in `gases` to a temporary variable called `item`\n",
    "   - Print each value of `item`, along with its positiom in the list (`count`)\n",
    "   - Add 1 to the value of `count`. (What would happen if you missed this part?)"
   ]
  },
  {
   "cell_type": "code",
   "execution_count": 5,
   "metadata": {},
   "outputs": [
    {
     "name": "stdout",
     "output_type": "stream",
     "text": [
      "He 0\n",
      "Ne 1\n",
      "Ar 2\n",
      "Kr 3\n"
     ]
    }
   ],
   "source": [
    "while count < 4:\n",
    "    item = gases[count]\n",
    "    print(item, count)\n",
    "    count +=1"
   ]
  },
  {
   "cell_type": "markdown",
   "metadata": {},
   "source": [
    "## 3. Let's try out `if`/`elif`/`else`"
   ]
  },
  {
   "cell_type": "markdown",
   "metadata": {},
   "source": [
    "Create a variable called `name` assigned the value \"Lisa\""
   ]
  },
  {
   "cell_type": "code",
   "execution_count": 6,
   "metadata": {},
   "outputs": [],
   "source": [
    "name = 'Lisa'"
   ]
  },
  {
   "cell_type": "markdown",
   "metadata": {},
   "source": [
    "Write an `if` block that tests if `name` is \"Lisa\": if `True` then pring the name and \"plays a saxophone\""
   ]
  },
  {
   "cell_type": "code",
   "execution_count": 7,
   "metadata": {},
   "outputs": [
    {
     "name": "stdout",
     "output_type": "stream",
     "text": [
      "Lisa plays a saxophone\n"
     ]
    }
   ],
   "source": [
    "if name == 'Lisa':\n",
    "    print(name, 'plays a saxophone')"
   ]
  },
  {
   "cell_type": "markdown",
   "metadata": {},
   "source": [
    "Add an `elif` block that tests if `name` is \"Bart\": If `True` then print the name and \"rides skateboard\""
   ]
  },
  {
   "cell_type": "code",
   "execution_count": 8,
   "metadata": {},
   "outputs": [
    {
     "name": "stdout",
     "output_type": "stream",
     "text": [
      "Bart rides a skateboard\n"
     ]
    }
   ],
   "source": [
    "name = 'Bart'\n",
    "\n",
    "if name == 'Lisa':\n",
    "    print(name, 'plays a saxophone')\n",
    "elif name == 'Bart':\n",
    "    print(name, 'rides a skateboard')\n",
    "    "
   ]
  },
  {
   "cell_type": "markdown",
   "metadata": {},
   "source": [
    "Add an `else` block. If `True` then print he name and \"lives in Springfield\""
   ]
  },
  {
   "cell_type": "code",
   "execution_count": 9,
   "metadata": {},
   "outputs": [
    {
     "name": "stdout",
     "output_type": "stream",
     "text": [
      "Wiggum lives in Springfield\n"
     ]
    }
   ],
   "source": [
    "name = 'Wiggum'\n",
    "\n",
    "if name == 'Lisa':\n",
    "    print(name, 'plays a saxophone')\n",
    "elif name == 'Bart':\n",
    "    print(name, 'rides a skateboard') \n",
    "else:\n",
    "    print(name, 'lives in Springfield')"
   ]
  },
  {
   "cell_type": "markdown",
   "metadata": {},
   "source": [
    "## 4. Let's test the \"truth\" of different objects. In most programming languages, any object can be tested for its truth value, using the `if` or `while` condition"
   ]
  },
  {
   "cell_type": "markdown",
   "metadata": {},
   "source": [
    "Create the variable `x` and assign the value 1 to it"
   ]
  },
  {
   "cell_type": "code",
   "execution_count": 10,
   "metadata": {},
   "outputs": [],
   "source": [
    "x = 1"
   ]
  },
  {
   "cell_type": "markdown",
   "metadata": {},
   "source": [
    "The following code creates a function which tests if `x` is true: \n",
    "\n",
    "```\n",
    "truthy = lambda x: print(x, 'is True') if x else print(x, 'is False')\n",
    "```"
   ]
  },
  {
   "cell_type": "markdown",
   "metadata": {},
   "source": [
    "Try using it like this:\n",
    "\n",
    "```truthy(x)```"
   ]
  },
  {
   "cell_type": "code",
   "execution_count": 11,
   "metadata": {},
   "outputs": [
    {
     "name": "stdout",
     "output_type": "stream",
     "text": [
      "1 is True\n"
     ]
    }
   ],
   "source": [
    "truthy = lambda x: print(x, 'is True') if x else print(x, 'is False')\n",
    "truthy(x)"
   ]
  },
  {
   "cell_type": "markdown",
   "metadata": {},
   "source": [
    "Use the function to test if the following values are `True`:\n",
    "- `22.1`\n",
    "- `\"hello\"`\n",
    "- `[1,2]`"
   ]
  },
  {
   "cell_type": "code",
   "execution_count": 12,
   "metadata": {},
   "outputs": [
    {
     "name": "stdout",
     "output_type": "stream",
     "text": [
      "22.1 is True\n",
      "hello is True\n",
      "[1, 2] is True\n"
     ]
    }
   ],
   "source": [
    "truthy(22.1)\n",
    "truthy(\"hello\")\n",
    "truthy([1,2])"
   ]
  },
  {
   "cell_type": "markdown",
   "metadata": {},
   "source": [
    "Now try testing for truth with zero (integer) and zero (float): 0, 0.0"
   ]
  },
  {
   "cell_type": "code",
   "execution_count": 13,
   "metadata": {},
   "outputs": [
    {
     "name": "stdout",
     "output_type": "stream",
     "text": [
      "0 is False\n",
      "0.0 is False\n"
     ]
    }
   ],
   "source": [
    "truthy(0)\n",
    "truthy(0.0)"
   ]
  },
  {
   "cell_type": "markdown",
   "metadata": {},
   "source": [
    "Try some values that are likely to be false: `None`, `False`"
   ]
  },
  {
   "cell_type": "code",
   "execution_count": 14,
   "metadata": {},
   "outputs": [
    {
     "name": "stdout",
     "output_type": "stream",
     "text": [
      "None is False\n",
      "False is False\n"
     ]
    }
   ],
   "source": [
    "truthy(None)\n",
    "truthy(False)"
   ]
  },
  {
   "cell_type": "markdown",
   "metadata": {},
   "source": [
    "Now try and empty string, empty sequences and a dictionary: \n",
    "- `\"\"`\n",
    "- `[]`\n",
    "- `{}` \n",
    "- `()`"
   ]
  },
  {
   "cell_type": "code",
   "execution_count": 15,
   "metadata": {},
   "outputs": [
    {
     "name": "stdout",
     "output_type": "stream",
     "text": [
      " is False\n",
      "[] is False\n",
      "{} is False\n",
      "() is False\n"
     ]
    }
   ],
   "source": [
    "truthy(\"\")\n",
    "truthy([])\n",
    "truthy({})\n",
    "truthy(())"
   ]
  }
 ],
 "metadata": {
  "kernelspec": {
   "display_name": "Python 3 + Jaspy",
   "language": "python",
   "name": "jaspy"
  },
  "language_info": {
   "codemirror_mode": {
    "name": "ipython",
    "version": 3
   },
   "file_extension": ".py",
   "mimetype": "text/x-python",
   "name": "python",
   "nbconvert_exporter": "python",
   "pygments_lexer": "ipython3",
   "version": "3.8.12"
  }
 },
 "nbformat": 4,
 "nbformat_minor": 4
}
