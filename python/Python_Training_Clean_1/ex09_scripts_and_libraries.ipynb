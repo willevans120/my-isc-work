{
 "cells": [
  {
   "cell_type": "markdown",
   "metadata": {},
   "source": [
    "# Excercise 9: Scripts and Libraries"
   ]
  },
  {
   "cell_type": "markdown",
   "metadata": {},
   "source": [
    "## Aim: Introduce scripts and importing from libraries"
   ]
  },
  {
   "cell_type": "markdown",
   "metadata": {},
   "source": [
    "### Issues covered:\n",
    "- Become familiar with running a python script\n",
    "- Working with command line arguments\n",
    "- Create your own library\n",
    "- Learn about the `__init__.py` module\n",
    "- Use a script to import your own library to call a function"
   ]
  },
  {
   "cell_type": "markdown",
   "metadata": {},
   "source": [
    "This excercise will require you to use the tools a little differently, making use of Jupyter as a handy file editor and the command line for running the commands."
   ]
  },
  {
   "cell_type": "markdown",
   "metadata": {},
   "source": [
    "**NOTE: Changes to the file system on JASMIN will not take immediate effect but should be reflected after a few seconds**"
   ]
  },
  {
   "cell_type": "markdown",
   "metadata": {},
   "source": [
    "## 1. Let's make a python library called table_reader\n",
    "Create a directory (in the Linux shell) called \"table_reader\"\n",
    "Create a file inside the \"table_reader\" directory called \"\\_\\_init__.py\"\n",
    "Add a variable in the \"\\_\\_init__.py\" file to hold the librarys version number."
   ]
  },
  {
   "cell_type": "markdown",
   "metadata": {},
   "source": [
    "Test if you can import the library"
   ]
  },
  {
   "cell_type": "markdown",
   "metadata": {},
   "source": [
    "`python -c \"import table_reader\"`"
   ]
  },
  {
   "cell_type": "markdown",
   "metadata": {},
   "source": [
    "Test if you can import the library and then print it's version"
   ]
  },
  {
   "cell_type": "markdown",
   "metadata": {},
   "source": [
    "`python -c \"import table_reader; print(table_reader.VERSION)\"`"
   ]
  },
  {
   "cell_type": "markdown",
   "metadata": {},
   "source": [
    "## 2. Lets create the \"read_table.py\" module inside our library"
   ]
  },
  {
   "cell_type": "markdown",
   "metadata": {},
   "source": [
    "Copy the file \"example_code/read_table.py\" to the \"table_reader\" directory"
   ]
  },
  {
   "cell_type": "markdown",
   "metadata": {},
   "source": [
    "Have a look inside the \"table_reader/read_table.py\" module. Do you understand what should happen in the \"print_table\" function?"
   ]
  },
  {
   "attachments": {
    "ex09_scripts_and_libraries_solutions.ipynb": {
     "stream": "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"
    }
   },
   "cell_type": "markdown",
   "metadata": {},
   "source": [
    "Test if you can import the module by running (in your linux terminal):\n",
    "\n",
    "`python -c \"import table_reader.read_table\"`![ex09_scripts_and_libraries_solutions.ipynb](attachment:ex09_scripts_and_libraries_solutions.ipynb)"
   ]
  },
  {
   "cell_type": "markdown",
   "metadata": {},
   "source": [
    "Test if you can import the \"print_table\" function from the module by running:\n",
    "\n",
    "`python -c \"from table_reader.read_table import print_table\"`"
   ]
  },
  {
   "cell_type": "markdown",
   "metadata": {},
   "source": [
    "## 3. Let's write a 4 line script that allows users to interact with our library"
   ]
  },
  {
   "cell_type": "markdown",
   "metadata": {},
   "source": [
    "Create a script in the current directory (not in \"table_reader\" called \"print_table.py\" containing lines:\n",
    "\n",
    "- L1: Import the `sys` module\n",
    "- L2: Import the `print_table` function from the `table_reader.read_table` module\n",
    "- L3: Set a variable `headers` to all command-line arguments sent to the script (`sys.argv`)\n",
    "- L4: Call the `print_table` function with the variable `headers`"
   ]
  },
  {
   "cell_type": "markdown",
   "metadata": {},
   "source": [
    "Test running the script without any arguments"
   ]
  },
  {
   "cell_type": "markdown",
   "metadata": {},
   "source": [
    "Test running the script with some of the columns selected (**HINT: Check the read_table.py for the possible headers**)"
   ]
  },
  {
   "cell_type": "markdown",
   "metadata": {},
   "source": [
    "What happens if you run the script and supply a header name which is not in the table?"
   ]
  },
  {
   "cell_type": "markdown",
   "metadata": {},
   "source": [
    "### Error handling"
   ]
  },
  {
   "cell_type": "markdown",
   "metadata": {},
   "source": [
    "If you have time, you could try to extending the `print_table` function to add error handling the following cases:\n",
    "\n",
    "- empty list of headers\n",
    "- header not in the data"
   ]
  }
 ],
 "metadata": {
  "kernelspec": {
   "display_name": "Python 3 + Jaspy",
   "language": "python",
   "name": "jaspy"
  },
  "language_info": {
   "codemirror_mode": {
    "name": "ipython",
    "version": 3
   },
   "file_extension": ".py",
   "mimetype": "text/x-python",
   "name": "python",
   "nbconvert_exporter": "python",
   "pygments_lexer": "ipython3",
   "version": "3.7.1"
  }
 },
 "nbformat": 4,
 "nbformat_minor": 4
}
