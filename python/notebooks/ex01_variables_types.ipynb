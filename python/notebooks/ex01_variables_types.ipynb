{
 "cells": [
  {
   "cell_type": "markdown",
   "metadata": {},
   "source": [
    "# Exercise 1: The basics - variables and types"
   ]
  },
  {
   "cell_type": "markdown",
   "metadata": {},
   "source": [
    "## Aim: Introduce python variables and types.\n",
    "\n",
    "### Issues covered:\n",
    " - Creating variables\n",
    " - Using `print` to display a variable\n",
    " - Simple arithmetic\n",
    " - Converting between types\n",
    " - Single-line comments\n",
    " - White-space makes code readable\n",
    " - In the notebook, you don’t need `print`"
   ]
  },
  {
   "cell_type": "markdown",
   "metadata": {},
   "source": [
    "## 1. Let's create some variables and print their values"
   ]
  },
  {
   "cell_type": "markdown",
   "metadata": {},
   "source": [
    "Create a variable called `course` and assign it the value `\"python\"`"
   ]
  },
  {
   "cell_type": "code",
   "execution_count": null,
   "metadata": {},
   "outputs": [],
   "source": []
  },
  {
   "cell_type": "markdown",
   "metadata": {},
   "source": [
    "Create a variable called `rating` and assign it an integer value (anything you like)."
   ]
  },
  {
   "cell_type": "code",
   "execution_count": null,
   "metadata": {},
   "outputs": [],
   "source": []
  },
  {
   "cell_type": "markdown",
   "metadata": {},
   "source": [
    "Print both variables to the screen using the `print` function."
   ]
  },
  {
   "cell_type": "code",
   "execution_count": null,
   "metadata": {},
   "outputs": [],
   "source": []
  },
  {
   "cell_type": "markdown",
   "metadata": {},
   "source": [
    "Also try it printing the values without the `print` function.\n",
    "\n",
    "_Note: This will work in notebooks, although what you see may be slightly different from what you get with `print`. In a script you would need to use `print`._"
   ]
  },
  {
   "cell_type": "code",
   "execution_count": null,
   "metadata": {},
   "outputs": [],
   "source": []
  },
  {
   "cell_type": "markdown",
   "metadata": {},
   "source": [
    "## 2. Let's use Pythagoras theorem to calculate the length of the hypotenuse of a right-angled triangle where the other sides have lengths 3 and 4."
   ]
  },
  {
   "cell_type": "markdown",
   "metadata": {},
   "source": [
    "Create variables called `b` and `c` and assign them the values of the sides with known lengths."
   ]
  },
  {
   "cell_type": "code",
   "execution_count": null,
   "metadata": {},
   "outputs": [],
   "source": []
  },
  {
   "cell_type": "markdown",
   "metadata": {},
   "source": [
    "Write a mathematical expression to calculate the length of the hypotenuse (REMEMBER: \"_a_-squared equals _b_-squared plus _c_-squared\")."
   ]
  },
  {
   "cell_type": "code",
   "execution_count": null,
   "metadata": {},
   "outputs": [],
   "source": []
  },
  {
   "cell_type": "markdown",
   "metadata": {},
   "source": [
    "Create a variable `a` that equals the result of the calculation."
   ]
  },
  {
   "cell_type": "code",
   "execution_count": null,
   "metadata": {},
   "outputs": [],
   "source": []
  },
  {
   "cell_type": "markdown",
   "metadata": {},
   "source": [
    "Print the value of variable `a`."
   ]
  },
  {
   "cell_type": "code",
   "execution_count": null,
   "metadata": {},
   "outputs": [],
   "source": []
  },
  {
   "cell_type": "markdown",
   "metadata": {},
   "source": [
    "## 3. Let's take a look at some data types."
   ]
  },
  {
   "cell_type": "markdown",
   "metadata": {},
   "source": [
    "Print the data type of each of the variables: `a`, `b`, `c`"
   ]
  },
  {
   "cell_type": "code",
   "execution_count": null,
   "metadata": {},
   "outputs": [],
   "source": []
  },
  {
   "cell_type": "markdown",
   "metadata": {},
   "source": [
    "Can you work out why `a` is different from `b` and `c`?"
   ]
  },
  {
   "cell_type": "markdown",
   "metadata": {},
   "source": [
    "_Hint: look at `type(b**2 + c**2)` and `type(0.5)`. Experiment with different operands for `**` - when is the output a `float`?_"
   ]
  },
  {
   "cell_type": "code",
   "execution_count": null,
   "metadata": {},
   "outputs": [],
   "source": []
  },
  {
   "cell_type": "markdown",
   "metadata": {},
   "source": [
    "## 4. Let's investigate converting between data types."
   ]
  },
  {
   "cell_type": "markdown",
   "metadata": {},
   "source": [
    "Use the `int()` built-in function to convert `a` into an integer type."
   ]
  },
  {
   "cell_type": "code",
   "execution_count": null,
   "metadata": {},
   "outputs": [],
   "source": []
  },
  {
   "cell_type": "markdown",
   "metadata": {},
   "source": [
    "Print the data type of `a` to check it worked."
   ]
  },
  {
   "cell_type": "code",
   "execution_count": null,
   "metadata": {},
   "outputs": [],
   "source": []
  },
  {
   "cell_type": "markdown",
   "metadata": {},
   "source": [
    "Now try running the following line of code:\n",
    "```\n",
    "print(a + \" squared equals \" + b + \" squared + \" + c + \" squared.\")\n",
    "```"
   ]
  },
  {
   "cell_type": "code",
   "execution_count": null,
   "metadata": {},
   "outputs": [],
   "source": []
  },
  {
   "cell_type": "markdown",
   "metadata": {},
   "source": [
    "You should get an error, do you know why?\n",
    "\n",
    "_Hint: just consider the first `+`. What are the types of its arguments?_"
   ]
  },
  {
   "cell_type": "code",
   "execution_count": null,
   "metadata": {},
   "outputs": [],
   "source": []
  },
  {
   "cell_type": "markdown",
   "metadata": {},
   "source": [
    "Try using the built-in `str()` (convert to string) function to fix the error."
   ]
  },
  {
   "cell_type": "code",
   "execution_count": null,
   "metadata": {},
   "outputs": [],
   "source": []
  },
  {
   "cell_type": "markdown",
   "metadata": {},
   "source": [
    "_Note: in fact `print` gives you essentially the output of `str()` for each of the comma-separated items, adding spaces between them. This is what we saw above with `print(course, rating)`._\n",
    "\n",
    "_Also try this:_\n",
    "_`print(a, \"squared equals\", b, \"squared +\", c, \"squared.\")`_"
   ]
  },
  {
   "cell_type": "code",
   "execution_count": null,
   "metadata": {},
   "outputs": [],
   "source": []
  },
  {
   "cell_type": "markdown",
   "metadata": {},
   "source": [
    "## 5. It is easy to write illegible code."
   ]
  },
  {
   "cell_type": "markdown",
   "metadata": {},
   "source": [
    "Let's start some good habits today. Adding comment lines at regular intervals helps to break up your code and make it easier to understand. Python does not enforce use of white-space around operators (such as `=`) but it really helps the reader. Please compare the readability of these two code blocks:\n",
    "\n",
    "```\n",
    "num=24\n",
    "a=34.999\n",
    "result=num*(13-a**2)+1.0\n",
    "print(\"Result:\",result)\n",
    "```\n",
    "\n",
    "and:\n",
    "\n",
    "```\n",
    "# Set up calculation inputs\n",
    "num = 24\n",
    "a = 34.999\n",
    "\n",
    "# Calculate result using the Godzilla algorithm\n",
    "result = num * (13 - a**2) + 1.0\n",
    "print(\"Result:\", result)\n",
    "```"
   ]
  }
 ],
 "metadata": {
  "kernelspec": {
   "display_name": "Python 3 + Jaspy",
   "language": "python",
   "name": "jaspy"
  },
  "language_info": {
   "codemirror_mode": {
    "name": "ipython",
    "version": 3
   },
   "file_extension": ".py",
   "mimetype": "text/x-python",
   "name": "python",
   "nbconvert_exporter": "python",
   "pygments_lexer": "ipython3",
   "version": "3.7.1"
  }
 },
 "nbformat": 4,
 "nbformat_minor": 4
}
