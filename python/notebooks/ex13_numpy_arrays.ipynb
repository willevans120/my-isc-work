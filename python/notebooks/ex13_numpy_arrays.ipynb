{
 "cells": [
  {
   "cell_type": "markdown",
   "metadata": {
    "collapsed": true,
    "pycharm": {
     "name": "#%% md\n"
    }
   },
   "source": [
    "# Exercise 13: NumPy Arrays\n",
    "\n",
    "## 1. Introduction to NumPy arrays\n",
    "\n",
    "### Aim: Introduce the basic NumPy array creation and indexing\n",
    "\n",
    "Issues covered:\n",
    "\n",
    "- Importing NumPy\n",
    "- Creating an array from a list\n",
    "- Creating arrays of zeroes or ones\n",
    "- Understanding array type codes\n",
    "- Array indexing and slicing\n",
    "\n",
    "Import the `numpy` library as `np`"
   ]
  },
  {
   "cell_type": "code",
   "execution_count": null,
   "outputs": [],
   "source": [],
   "metadata": {
    "collapsed": false,
    "pycharm": {
     "name": "#%%\n"
    }
   }
  },
  {
   "cell_type": "markdown",
   "source": [
    "### Let's create a numpy array from a list.\n",
    "\n",
    "Create a with values 1 to 10 and assign it to the variable `x`"
   ],
   "metadata": {
    "collapsed": false
   }
  },
  {
   "cell_type": "code",
   "execution_count": null,
   "outputs": [],
   "source": [
    "x = ..."
   ],
   "metadata": {
    "collapsed": false,
    "pycharm": {
     "name": "#%%\n"
    }
   }
  },
  {
   "cell_type": "markdown",
   "source": [
    "Create a numpy integer array using `x` and print its `dtype`"
   ],
   "metadata": {
    "collapsed": false
   }
  },
  {
   "cell_type": "code",
   "execution_count": null,
   "outputs": [],
   "source": [],
   "metadata": {
    "collapsed": false,
    "pycharm": {
     "name": "#%%\n"
    }
   }
  },
  {
   "cell_type": "markdown",
   "source": [
    "Create a numpy float array using `x` and print its `dtype`"
   ],
   "metadata": {
    "collapsed": false,
    "pycharm": {
     "name": "#%% md\n"
    }
   }
  },
  {
   "cell_type": "code",
   "execution_count": null,
   "outputs": [],
   "source": [],
   "metadata": {
    "collapsed": false,
    "pycharm": {
     "name": "#%%\n"
    }
   }
  },
  {
   "cell_type": "markdown",
   "source": [
    "### Let's create arrays in different way.\n",
    "\n",
    "- Create an array of shape (2, 3, 4) of zeros\n",
    "- Create an array of shape (2, 3, 4) of ones.\n",
    "- Create an array with values 0 to 999 using the `np.arrange` function."
   ],
   "metadata": {
    "collapsed": false
   }
  },
  {
   "cell_type": "code",
   "execution_count": null,
   "outputs": [],
   "source": [
    "zeros = ...\n",
    "ones = ...\n",
    "arr = ..."
   ],
   "metadata": {
    "collapsed": false,
    "pycharm": {
     "name": "#%%\n"
    }
   }
  },
  {
   "cell_type": "markdown",
   "source": [
    "### Let's look at indexing and slicing arrays.\n",
    "\n",
    "Create an array from the list `[2, 3.2, 5.5, -6.4, -2.2, 2.4]` and assign it to the variable `a`\n",
    "\n",
    "- Do you know what `a[1]` will equal? Print to see.\n",
    "- Try print `a[1:4]` to see what that equals."
   ],
   "metadata": {
    "collapsed": false
   }
  },
  {
   "cell_type": "code",
   "execution_count": null,
   "outputs": [],
   "source": [
    "a = ..."
   ],
   "metadata": {
    "collapsed": false,
    "pycharm": {
     "name": "#%%\n"
    }
   }
  },
  {
   "cell_type": "markdown",
   "source": [
    "Create a 2-D array from the following list and assign it to the variable `a`:\n",
    "```python\n",
    "[\n",
    "    [2, 3.2, 5.5, -6.4, -2.2, 2.4],\n",
    "    [1, 22, 4, 0.1, 5.3, -9],\n",
    "    [3, 1, 2.1, 21, 1.1, -2]\n",
    "]\n",
    "```\n",
    "\n",
    "Can you guess what the following slices are equal to? Print them to check your understanding.\n",
    "\n",
    "- `a[:, 3]`\n",
    "- `a[1:4, 0:4]`\n",
    "- `a[1:, 2]`"
   ],
   "metadata": {
    "collapsed": false
   }
  },
  {
   "cell_type": "code",
   "execution_count": null,
   "outputs": [],
   "source": [
    "a = ..."
   ],
   "metadata": {
    "collapsed": false,
    "pycharm": {
     "name": "#%%\n"
    }
   }
  },
  {
   "cell_type": "markdown",
   "source": [
    "## 2. Interrogating and manipulating arrays\n",
    "\n",
    "### Aim: Learn how to interrogate and manipulate NumPy Arrays\n",
    "\n",
    "Issues covered:\n",
    "\n",
    "- Interrogating the properties of an array\n",
    "- Manipulating arrays to change their properties\n",
    "\n",
    "### Let's interrogate an array to find out it's characteristics\n",
    "\n",
    "Create a 2-D array of shape (2, 4) containg two lists `range(4)` and `range(10, 14)`, assign it to the vairable `arr`\n",
    "\n",
    "- Print the shape of the array\n",
    "- Print the size of the array\n",
    "- Print and maximum and minimum of the array"
   ],
   "metadata": {
    "collapsed": false
   }
  },
  {
   "cell_type": "code",
   "execution_count": null,
   "outputs": [],
   "source": [
    "arr = ..."
   ],
   "metadata": {
    "collapsed": false,
    "pycharm": {
     "name": "#%%\n"
    }
   }
  },
  {
   "cell_type": "markdown",
   "source": [
    "### Let's generate new arrays by modifying our array\n",
    "\n",
    "Continue to use the array, `arr`, as defined above\n",
    "\n",
    "- Print the array re-shaped to (2, 2, 2)\n",
    "- Print the array transposed\n",
    "- Print the array flattened to a single dimension\n",
    "- Print the array converted to floats"
   ],
   "metadata": {
    "collapsed": false
   }
  },
  {
   "cell_type": "code",
   "execution_count": null,
   "outputs": [],
   "source": [],
   "metadata": {
    "collapsed": false,
    "pycharm": {
     "name": "#%%\n"
    }
   }
  },
  {
   "cell_type": "markdown",
   "source": [
    "## 3. Array calculation and operations\n",
    "\n",
    "### Aim: Use NumPy arrays in mathematical calculations\n",
    "\n",
    "Issues covered:\n",
    "\n",
    "- Mathematical operations with arrays\n",
    "- Mathematical operations mixing scalars and arrays\n",
    "- Comparison operators and Boolean operations on arrays\n",
    "- Using the `where` method\n",
    "- Writing a function to work on arrays\n",
    "\n",
    "### Let's perform some array calculations\n",
    "\n",
    "Create a 2-D array of shape (2, 4) containg two lists `range(4)` and `range(10, 14)`, assign it to the vairable `a`\n",
    "\n",
    "Create an array from a list `[2, -1, 1, 0]` and assign it to the variable `b`\n",
    "\n",
    "- Multiply array `a` by `b` and print the result. Do you understand how numpy has used its *broadcasting* feature to do the calculation even though the arrays are different shapes?\n",
    "- Multiply array `b` by 100 and assign the result to variable `b1` with `np.multiply`\n",
    "- Multiply array `b` by 100.0 and assign the result to the variable `b2` with `np.multiply`\n",
    "- Print the arrays `b1` and `b2`\n",
    "- Print `b1 == b2`, are they the same?\n",
    "- Why do they display differently? Interrogate the `dtype` of each array to find out why"
   ],
   "metadata": {
    "collapsed": false
   }
  },
  {
   "cell_type": "code",
   "execution_count": null,
   "outputs": [],
   "source": [
    "a = ...\n",
    "b = ..."
   ],
   "metadata": {
    "collapsed": false,
    "pycharm": {
     "name": "#%%\n"
    }
   }
  },
  {
   "cell_type": "markdown",
   "source": [
    "### Let's look at array comparisons\n",
    "\n",
    "Create an array of values 0 to 9 and assign it to the variable `arr`\n",
    "\n",
    "- Print two different way of expressing the condition where the array is less than 3.\n",
    "- Create a numpy condition where `arr` is less than 3 OR greater than 8.\n",
    "- Use the `where` function to create a new array where the value is `arr*5` if the above condition is `True` and `arr-5` where the condition is `False`"
   ],
   "metadata": {
    "collapsed": false
   }
  },
  {
   "cell_type": "code",
   "execution_count": null,
   "outputs": [],
   "source": [
    "arr = ..."
   ],
   "metadata": {
    "collapsed": false,
    "pycharm": {
     "name": "#%%\n"
    }
   }
  },
  {
   "cell_type": "markdown",
   "source": [
    "### Let's implement a mathematical function that works on arrays.\n",
    "\n",
    "Write a function that takes a 2-D array of horizontal zonal (east-west) wind components (`u`, in m/s) and a 2-D array of horizontal meridional (north-south) wind componenets (`v`, in m/s)\n",
    "and returns an array of the magnitudes of the total wind.\n",
    "Include a test for the overall magnitude: if it is less than 0.1 then set it equal to 0.1 (We might presume this particular domain has no non-zero winds and that only winds above 0.1 m/s constitute \"good\" data while those below are indistinguishable from the minimum due noise)\n",
    "\n",
    "The return value should be an array of the same shape and type as the input arrays. The magnitude of the wind can be calculated as the square root of the sum of the squares of the `u` and `v` winds.\n",
    "\n",
    "- Test your function on `u = [[4, 5, 6], [2, 3, 4]]` and `v = [[2, 2, 2], [1, 1, 1]]` values.\n",
    "- Test your function on `u = [[4, 5, 0.01], [2, 3, 4]]` and `v = [[2, 2, 0.03], [1, 1, 1]]` values. Does your default minimum magnitude get used?"
   ],
   "metadata": {
    "collapsed": false
   }
  },
  {
   "cell_type": "code",
   "execution_count": null,
   "outputs": [],
   "source": [
    "def calc_magnitude(u, v):\n",
    "    ..."
   ],
   "metadata": {
    "collapsed": false,
    "pycharm": {
     "name": "#%%\n"
    }
   }
  },
  {
   "cell_type": "markdown",
   "source": [
    "## 4. Working with missing values\n",
    "\n",
    "### Aim: An introduction to masked arrays to represent missing values\n",
    "\n",
    "Issues covered:\n",
    "\n",
    "- Creating a masked array\n",
    "- Masking certain values in an array\n",
    "- Using the `masked_where` function to create a masked array\n",
    "- Applying a mask to an existing array\n",
    "- Performing calculation with masked arrays\n",
    "\n",
    "### Let's create a masked array and play with it\n",
    "\n",
    "Import the `numpy.ma` module as `MA`"
   ],
   "metadata": {
    "collapsed": false
   }
  },
  {
   "cell_type": "code",
   "execution_count": null,
   "outputs": [],
   "source": [],
   "metadata": {
    "collapsed": false,
    "pycharm": {
     "name": "#%%\n"
    }
   }
  },
  {
   "cell_type": "markdown",
   "source": [
    "Create a masked array from a list of values (0 to 9) with a `fill_value` of -999 and assign it to the variable `marr`\n",
    "\n",
    "- Print the array to view its values. Print the `fill_value` attribute.\n",
    "- Mask the third value in the array using `MA.masked`, print the array to view how it has changed.\n",
    "- Print the mask associated with the array (i.e. `marr.mask`)"
   ],
   "metadata": {
    "collapsed": false
   }
  },
  {
   "cell_type": "code",
   "execution_count": null,
   "outputs": [],
   "source": [
    "marr = ..."
   ],
   "metadata": {
    "collapsed": false,
    "pycharm": {
     "name": "#%%\n"
    }
   }
  },
  {
   "cell_type": "markdown",
   "source": [
    "Create a new masked array called `narr` that is equal to `marr` where `marr` is less than 7 and masked otherwise.\n",
    "\n",
    "- Print the array to view its values.\n",
    "- Print its missing value (i.e. `narr.fill_value`)\n",
    "- Print an array that converts `narr` so that the missing values are represented by the missing value (i.e. `MA.filled`). Assign it to `farr`\n",
    "- What is the type of the `farr`"
   ],
   "metadata": {
    "collapsed": false
   }
  },
  {
   "cell_type": "code",
   "execution_count": null,
   "outputs": [],
   "source": [
    "narr = ...\n",
    "\n",
    "farr = ..."
   ],
   "metadata": {
    "collapsed": false,
    "pycharm": {
     "name": "#%%\n"
    }
   }
  },
  {
   "cell_type": "markdown",
   "source": [
    "### Let's create a mask that is smaller than the overall array\n",
    "\n",
    "- Create a masked array of values 1 to 8 and assign it to the variable `m1`, print `m1`\n",
    "- Re-shape the array to the shape `(2, 4)` and assign it to the variable `m2`, print `m2`\n",
    "- Mask values of `m2` greater than 6 and assign the result to the variable `m3`, print `m3`\n",
    "- Print `m3` multiplied by 100\n",
    "- Subtract `m3` by a normal numpy array of `ones` that is the same shape as `m3` and assign it to he variable `m4`, print `m4`\n",
    "- Is `m4` a normal array or masked array?"
   ],
   "metadata": {
    "collapsed": false
   }
  },
  {
   "cell_type": "code",
   "execution_count": null,
   "outputs": [],
   "source": [
    "m1 = ...\n",
    "\n",
    "m2 = ...\n",
    "\n",
    "m3 = ...\n",
    "\n",
    "m4 = ..."
   ],
   "metadata": {
    "collapsed": false,
    "pycharm": {
     "name": "#%%\n"
    }
   }
  }
 ],
 "metadata": {
  "kernelspec": {
   "display_name": "Python 3",
   "language": "python",
   "name": "python3"
  },
  "language_info": {
   "codemirror_mode": {
    "name": "ipython",
    "version": 2
   },
   "file_extension": ".py",
   "mimetype": "text/x-python",
   "name": "python",
   "nbconvert_exporter": "python",
   "pygments_lexer": "ipython2",
   "version": "2.7.6"
  }
 },
 "nbformat": 4,
 "nbformat_minor": 0
}