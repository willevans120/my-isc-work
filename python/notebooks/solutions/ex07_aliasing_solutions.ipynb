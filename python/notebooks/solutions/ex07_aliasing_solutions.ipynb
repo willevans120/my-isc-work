{
 "cells": [
  {
   "cell_type": "markdown",
   "metadata": {},
   "source": [
    "# Exercise 7: Aliasing"
   ]
  },
  {
   "cell_type": "markdown",
   "metadata": {},
   "source": [
    "## Aim: Introduce how Python uses aliases\n",
    "\n",
    "### Issues covered:\n",
    " - Testing for aliases\n",
    " - Modifying target objects through aliases\n",
    " - Avoiding aliasing using `deepcopy`"
   ]
  },
  {
   "cell_type": "markdown",
   "metadata": {},
   "source": [
    "## 1. Let's create an alias and try changing the original variable and the alias."
   ]
  },
  {
   "cell_type": "markdown",
   "metadata": {},
   "source": [
    "Create a list `a` with the value `[0, 1, 2]`."
   ]
  },
  {
   "cell_type": "code",
   "execution_count": 1,
   "metadata": {},
   "outputs": [],
   "source": [
    "a = list(range(3))   # or:  a = [0, 1, 2]"
   ]
  },
  {
   "cell_type": "markdown",
   "metadata": {},
   "source": [
    "Create a variable `b` and assign it the value variable `a`."
   ]
  },
  {
   "cell_type": "code",
   "execution_count": 2,
   "metadata": {},
   "outputs": [],
   "source": [
    "b = a"
   ]
  },
  {
   "cell_type": "markdown",
   "metadata": {},
   "source": [
    "Print `a` and `b`."
   ]
  },
  {
   "cell_type": "code",
   "execution_count": 3,
   "metadata": {},
   "outputs": [
    {
     "name": "stdout",
     "output_type": "stream",
     "text": [
      "[0, 1, 2] [0, 1, 2]\n"
     ]
    }
   ],
   "source": [
    "print(a, b)"
   ]
  },
  {
   "cell_type": "markdown",
   "metadata": {},
   "source": [
    "Modify `b` so that its first member is \"hello\"."
   ]
  },
  {
   "cell_type": "code",
   "execution_count": 4,
   "metadata": {},
   "outputs": [],
   "source": [
    "b[0] = \"hello\""
   ]
  },
  {
   "cell_type": "markdown",
   "metadata": {},
   "source": [
    "Print `a` and `b`."
   ]
  },
  {
   "cell_type": "code",
   "execution_count": 5,
   "metadata": {},
   "outputs": [
    {
     "name": "stdout",
     "output_type": "stream",
     "text": [
      "['hello', 1, 2] ['hello', 1, 2]\n"
     ]
    }
   ],
   "source": [
    "print(a, b)"
   ]
  },
  {
   "cell_type": "markdown",
   "metadata": {},
   "source": [
    "Append the value `3` to list `a`."
   ]
  },
  {
   "cell_type": "code",
   "execution_count": 6,
   "metadata": {},
   "outputs": [],
   "source": [
    "a.append(3)"
   ]
  },
  {
   "cell_type": "markdown",
   "metadata": {},
   "source": [
    "Print `a` and `b`."
   ]
  },
  {
   "cell_type": "code",
   "execution_count": 7,
   "metadata": {},
   "outputs": [
    {
     "name": "stdout",
     "output_type": "stream",
     "text": [
      "['hello', 1, 2, 3] ['hello', 1, 2, 3]\n"
     ]
    }
   ],
   "source": [
    "print(a, b)"
   ]
  },
  {
   "cell_type": "markdown",
   "metadata": {},
   "source": [
    "## 2. Let's try it with a string."
   ]
  },
  {
   "cell_type": "markdown",
   "metadata": {},
   "source": [
    "Create a string `a` with the value `\"can I change\"`."
   ]
  },
  {
   "cell_type": "code",
   "execution_count": 8,
   "metadata": {},
   "outputs": [],
   "source": [
    "a = \"can I change\""
   ]
  },
  {
   "cell_type": "markdown",
   "metadata": {},
   "source": [
    "Create a variable `b` and assign it the value variable `a`."
   ]
  },
  {
   "cell_type": "code",
   "execution_count": 9,
   "metadata": {},
   "outputs": [],
   "source": [
    "b = a"
   ]
  },
  {
   "cell_type": "markdown",
   "metadata": {},
   "source": [
    "Print `a` and `b`."
   ]
  },
  {
   "cell_type": "code",
   "execution_count": 10,
   "metadata": {},
   "outputs": [
    {
     "name": "stdout",
     "output_type": "stream",
     "text": [
      "can I change can I change\n"
     ]
    }
   ],
   "source": [
    "print(a, b)"
   ]
  },
  {
   "cell_type": "markdown",
   "metadata": {},
   "source": [
    "Set the value of `b` to `\"different\"`."
   ]
  },
  {
   "cell_type": "code",
   "execution_count": 11,
   "metadata": {},
   "outputs": [],
   "source": [
    "b = \"different\""
   ]
  },
  {
   "cell_type": "markdown",
   "metadata": {},
   "source": [
    "Print `a` and `b`."
   ]
  },
  {
   "cell_type": "code",
   "execution_count": 12,
   "metadata": {},
   "outputs": [
    {
     "name": "stdout",
     "output_type": "stream",
     "text": [
      "can I change different\n"
     ]
    }
   ],
   "source": [
    "print(a, b)"
   ]
  },
  {
   "cell_type": "markdown",
   "metadata": {},
   "source": [
    "What is different about lists and strings that causes this behaviour?"
   ]
  },
  {
   "cell_type": "code",
   "execution_count": 13,
   "metadata": {},
   "outputs": [],
   "source": [
    "# The key difference here is between:\n",
    "#\n",
    "#  (A) Reassigning a variable to point to a new object.\n",
    "#      The syntax would normally look like:  my_variable = new_value\n",
    "#       (except where tuple unpacking is used - see exercise 4)\n",
    "#\n",
    "#   and\n",
    "#\n",
    "#  (B) Modifying the existing (mutable) object that a variable points to.\n",
    "#      The syntax could look something like:\n",
    "#              - list item assignment:        my_list[index] = new_item_value\n",
    "#              - calling list append method:  my_list.append(item_value)\n",
    "#      But there are many more examples.\n",
    "#\n",
    "# (A) is possible regardless of what type of object the variable pointed to before\n",
    "# you reassigned it.  But (B) is only possible where the variable points to a \n",
    "# MUTABLE object (which includes lists, but not strings).\n",
    "\n",
    "\n",
    "# There is a useful 'is' operator that helps you see what is going on here\n",
    "#\n",
    "# If you do:  print(a is b)\n",
    "# this will evaluate: True if both names point to the same object in memory,\n",
    "#                     False if they point to different objects\n",
    "#\n",
    "# When you do  b = a\n",
    "# the two variables will point to the same object (you can see this using 'is')\n",
    "# \n",
    "# If you modify that object (e.g. list item assignment) using either variable name,\n",
    "# you will see the change regardless of which variable name you used to access it.\n",
    "# This is not possible with strings because they are immutable.\n",
    "#\n",
    "# But if you reassign one of the variables to something else,\n",
    "# then they will no longer point to the same object."
   ]
  },
  {
   "cell_type": "code",
   "execution_count": 14,
   "metadata": {},
   "outputs": [
    {
     "name": "stdout",
     "output_type": "stream",
     "text": [
      "can I change can I change True\n"
     ]
    }
   ],
   "source": [
    "# Variable reassignment example - using strings\n",
    "\n",
    "a = \"can I change\"\n",
    "b = a\n",
    "print(a, b, a is b)"
   ]
  },
  {
   "cell_type": "code",
   "execution_count": 15,
   "metadata": {},
   "outputs": [
    {
     "name": "stdout",
     "output_type": "stream",
     "text": [
      "can I change different False\n"
     ]
    }
   ],
   "source": [
    "b = \"different\"\n",
    "\n",
    "print(a, b, a is b)"
   ]
  },
  {
   "cell_type": "code",
   "execution_count": 16,
   "metadata": {},
   "outputs": [
    {
     "name": "stdout",
     "output_type": "stream",
     "text": [
      "[1, 2] [1, 2] True\n"
     ]
    }
   ],
   "source": [
    "# Variable reassignment example - using lists\n",
    "a = [1, 2]\n",
    "b = a\n",
    "print(a, b, a is b)"
   ]
  },
  {
   "cell_type": "code",
   "execution_count": 17,
   "metadata": {},
   "outputs": [
    {
     "name": "stdout",
     "output_type": "stream",
     "text": [
      "[1, 2] [4, 5] False\n"
     ]
    }
   ],
   "source": [
    "b = [4, 5]\n",
    "print(a, b, a is b)"
   ]
  },
  {
   "cell_type": "code",
   "execution_count": 18,
   "metadata": {},
   "outputs": [
    {
     "name": "stdout",
     "output_type": "stream",
     "text": [
      "[1, 2] [1, 2] True\n"
     ]
    }
   ],
   "source": [
    "# Modifying existing object example - using lists\n",
    "\n",
    "a = [1, 2]\n",
    "b = a\n",
    "print(a, b, a is b)"
   ]
  },
  {
   "cell_type": "code",
   "execution_count": 19,
   "metadata": {},
   "outputs": [
    {
     "name": "stdout",
     "output_type": "stream",
     "text": [
      "[1, 3, 4] [1, 3, 4] True\n"
     ]
    }
   ],
   "source": [
    "b[1] = 3       # note that this line does not start with  b = ....\n",
    "b.append(4)    # and neither does this line\n",
    "print(a, b, a is b)  # We will see that  (a is b) STILL evaluates True"
   ]
  },
  {
   "cell_type": "code",
   "execution_count": 20,
   "metadata": {},
   "outputs": [],
   "source": [
    "# There is NO EQUIVALENT to this with strings, because they are immutable.\n",
    "# We saw for example in exercise 6 that  'something[0] = \"B\"'  gave an error.\n",
    "#\n",
    "# This is why aliasing is not an issue with strings: you can't modify them\n",
    "# (although you can still just reassign a named variable to a different string)."
   ]
  },
  {
   "cell_type": "markdown",
   "metadata": {},
   "source": [
    "## 3. When we want to avoid aliasing we can force a \"deep\" copy."
   ]
  },
  {
   "cell_type": "markdown",
   "metadata": {},
   "source": [
    "Create a list `a` with the value `[0, 1, 2]`."
   ]
  },
  {
   "cell_type": "code",
   "execution_count": 21,
   "metadata": {},
   "outputs": [],
   "source": [
    "a = list(range(3))"
   ]
  },
  {
   "cell_type": "markdown",
   "metadata": {},
   "source": [
    "Create a variable `b` and assign it a deep copy of variable `a` (use: `copy.deepcopy`)."
   ]
  },
  {
   "cell_type": "code",
   "execution_count": 22,
   "metadata": {},
   "outputs": [],
   "source": [
    "import copy  # in a script, normally your imports would be at the top\n",
    "b = copy.deepcopy(a)"
   ]
  },
  {
   "cell_type": "markdown",
   "metadata": {},
   "source": [
    "Print `a` and `b`."
   ]
  },
  {
   "cell_type": "code",
   "execution_count": 23,
   "metadata": {},
   "outputs": [
    {
     "name": "stdout",
     "output_type": "stream",
     "text": [
      "[0, 1, 2] [0, 1, 2]\n"
     ]
    }
   ],
   "source": [
    "print(a, b)"
   ]
  },
  {
   "cell_type": "markdown",
   "metadata": {},
   "source": [
    "Modify `b` so that its first member is `\"hello\"`."
   ]
  },
  {
   "cell_type": "code",
   "execution_count": 24,
   "metadata": {},
   "outputs": [],
   "source": [
    "b[0] = \"hello\""
   ]
  },
  {
   "cell_type": "markdown",
   "metadata": {},
   "source": [
    "Print `a` and `b`."
   ]
  },
  {
   "cell_type": "code",
   "execution_count": 25,
   "metadata": {},
   "outputs": [
    {
     "name": "stdout",
     "output_type": "stream",
     "text": [
      "[0, 1, 2] ['hello', 1, 2]\n"
     ]
    }
   ],
   "source": [
    "print(a, b)"
   ]
  },
  {
   "cell_type": "code",
   "execution_count": 26,
   "metadata": {},
   "outputs": [],
   "source": [
    "# Hint: now try:\n",
    "#\n",
    "#     print(a is b)\n",
    "#\n",
    "# both here and at the end of section 1 above\n",
    "# (you might need to do \"rerun all cells\" from the Run menu so that cells are \n",
    "# executed in the correct order)\n",
    "#\n",
    "# how does this compare with the example in section 1?"
   ]
  }
 ],
 "metadata": {
  "kernelspec": {
   "display_name": "Python 3 + Jaspy",
   "language": "python",
   "name": "jaspy"
  },
  "language_info": {
   "codemirror_mode": {
    "name": "ipython",
    "version": 3
   },
   "file_extension": ".py",
   "mimetype": "text/x-python",
   "name": "python",
   "nbconvert_exporter": "python",
   "pygments_lexer": "ipython3",
   "version": "3.7.1"
  }
 },
 "nbformat": 4,
 "nbformat_minor": 4
}
