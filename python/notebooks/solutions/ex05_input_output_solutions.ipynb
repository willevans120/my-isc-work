{
 "cells": [
  {
   "cell_type": "markdown",
   "metadata": {},
   "source": [
    "# Exercise 5: Input and Output"
   ]
  },
  {
   "cell_type": "markdown",
   "metadata": {},
   "source": [
    "## Aim: Introduce reading and writing from files.\n",
    "\n",
    "### Issues covered:\n",
    " - Opening files to read or write to\n",
    " - Reading data in blocks, lines or all\n",
    " - Writing data to files\n",
    " - Working with binary files"
   ]
  },
  {
   "cell_type": "markdown",
   "metadata": {},
   "source": [
    "## 1. Let's read the entire contents of the CSV file and display each line."
   ]
  },
  {
   "cell_type": "markdown",
   "metadata": {},
   "source": [
    "We will use this data file in this exercise: `example_data/weather.csv`\n",
    "\n",
    "Let's define a variable so we remember it:"
   ]
  },
  {
   "cell_type": "code",
   "execution_count": 1,
   "metadata": {},
   "outputs": [],
   "source": [
    "WEATHER_FILE = \"example_data/weather.csv\""
   ]
  },
  {
   "cell_type": "markdown",
   "metadata": {},
   "source": [
    "Use the `with` statement to open the file (in read mode, `\"r\"`)."
   ]
  },
  {
   "cell_type": "markdown",
   "metadata": {},
   "source": [
    "Read the contents of the file into the variable called `data` using the `read` method."
   ]
  },
  {
   "cell_type": "code",
   "execution_count": 2,
   "metadata": {},
   "outputs": [],
   "source": [
    "with open(WEATHER_FILE, \"r\") as reader:  # can omit the \"r\" when reading\n",
    "    data = reader.read()"
   ]
  },
  {
   "cell_type": "markdown",
   "metadata": {},
   "source": [
    "Print the contents of `data`."
   ]
  },
  {
   "cell_type": "code",
   "execution_count": 3,
   "metadata": {},
   "outputs": [
    {
     "name": "stdout",
     "output_type": "stream",
     "text": [
      "Date,Time,Temp,Rainfall\n",
      "2014-01-01,00:00,2.34,4.45\n",
      "2014-01-01,12:00,6.70,8.34\n",
      "2014-01-02,00:00,-1.34,10.25\n"
     ]
    }
   ],
   "source": [
    "print(data)"
   ]
  },
  {
   "cell_type": "markdown",
   "metadata": {},
   "source": [
    "## 2. Let's try reading the file line by line."
   ]
  },
  {
   "cell_type": "markdown",
   "metadata": {},
   "source": [
    "Use the `with` statement to open the weather file."
   ]
  },
  {
   "cell_type": "markdown",
   "metadata": {},
   "source": [
    "Start a while loop that continues until `readline()` returns an empty string."
   ]
  },
  {
   "cell_type": "markdown",
   "metadata": {},
   "source": [
    "Whilst inside the while loop read each line using the `readline()` method."
   ]
  },
  {
   "cell_type": "markdown",
   "metadata": {},
   "source": [
    "Print each line that is read."
   ]
  },
  {
   "cell_type": "markdown",
   "metadata": {},
   "source": [
    "When the loop has exited print `\"It's over\"`."
   ]
  },
  {
   "cell_type": "code",
   "execution_count": 4,
   "metadata": {},
   "outputs": [
    {
     "name": "stdout",
     "output_type": "stream",
     "text": [
      "Date,Time,Temp,Rainfall\n",
      "\n",
      "2014-01-01,00:00,2.34,4.45\n",
      "\n",
      "2014-01-01,12:00,6.70,8.34\n",
      "\n",
      "2014-01-02,00:00,-1.34,10.25\n",
      "It's over\n"
     ]
    }
   ],
   "source": [
    "with open(WEATHER_FILE) as reader:\n",
    "    while True:\n",
    "        line = reader.readline()\n",
    "        if not line:\n",
    "            break\n",
    "        print(line)\n",
    "print(\"It's over\")"
   ]
  },
  {
   "cell_type": "markdown",
   "metadata": {},
   "source": [
    "## 3. Let's do the same thing using a `for` loop and grab just the rainfall values."
   ]
  },
  {
   "cell_type": "markdown",
   "metadata": {},
   "source": [
    "Use the `with` statement to open the weather file."
   ]
  },
  {
   "cell_type": "markdown",
   "metadata": {},
   "source": [
    "Read the first line using the `readline()` method of the file handle."
   ]
  },
  {
   "cell_type": "markdown",
   "metadata": {},
   "source": [
    "Create an empty list called `rain`."
   ]
  },
  {
   "cell_type": "markdown",
   "metadata": {},
   "source": [
    "Create a `for` loop that reads each line as a variable `line`. Print each line within the loop."
   ]
  },
  {
   "cell_type": "markdown",
   "metadata": {},
   "source": [
    "Can you extract only the rainfall values from the final column, convert them to real types (decimals) using `float` and append them to the list `rain`?"
   ]
  },
  {
   "cell_type": "code",
   "execution_count": 5,
   "metadata": {},
   "outputs": [
    {
     "name": "stdout",
     "output_type": "stream",
     "text": [
      "2014-01-01,00:00,2.34,4.45\n",
      "\n",
      "2014-01-01,12:00,6.70,8.34\n",
      "\n",
      "2014-01-02,00:00,-1.34,10.25\n"
     ]
    }
   ],
   "source": [
    "with open(WEATHER_FILE) as reader:\n",
    "    header = reader.readline() #   We will ignore this\n",
    "    rain = []\n",
    "    for line in reader.readlines():\n",
    "        print(line)\n",
    "        r = line.strip().split(\",\")[-1]\n",
    "        r = float(r)         \n",
    "        rain.append(r)"
   ]
  },
  {
   "cell_type": "markdown",
   "metadata": {},
   "source": [
    "Print the contents of `rain`."
   ]
  },
  {
   "cell_type": "code",
   "execution_count": 6,
   "metadata": {},
   "outputs": [
    {
     "name": "stdout",
     "output_type": "stream",
     "text": [
      "[4.45, 8.34, 10.25]\n"
     ]
    }
   ],
   "source": [
    "print(rain)"
   ]
  },
  {
   "cell_type": "markdown",
   "metadata": {},
   "source": [
    "Now try writing the contents of rain to a file called `\"myrain.txt\"`. (Use the `write()` method of a file handle)."
   ]
  },
  {
   "cell_type": "code",
   "execution_count": 7,
   "metadata": {},
   "outputs": [],
   "source": [
    "with open(\"myrain.txt\", \"w\") as writer:\n",
    "    for r in rain:\n",
    "        writer.write(str(r) + \"\\n\")"
   ]
  },
  {
   "cell_type": "code",
   "execution_count": 8,
   "metadata": {},
   "outputs": [],
   "source": [
    "# note - you can now open \"myrain.txt\" in the notebook to take a look at it"
   ]
  },
  {
   "cell_type": "markdown",
   "metadata": {},
   "source": [
    "## 4. Let's try writing and reading some binary data [ADVANCED]."
   ]
  },
  {
   "cell_type": "markdown",
   "metadata": {},
   "source": [
    "Firstly, we'll need to import the `struct` module which allows us to pack/unpack data to/from binary: `import struct`"
   ]
  },
  {
   "cell_type": "markdown",
   "metadata": {},
   "source": [
    "Pack the following list of values into four bytes using the `struct.pack` function:\n",
    "```\n",
    "bin_data = struct.pack(\"bbbb\", 123,12,45,34)\n",
    "```"
   ]
  },
  {
   "cell_type": "code",
   "execution_count": 9,
   "metadata": {},
   "outputs": [],
   "source": [
    "import struct\n",
    "bin_data = struct.pack(\"bbbb\", 123, 12, 45, 34)"
   ]
  },
  {
   "cell_type": "markdown",
   "metadata": {},
   "source": [
    "Use the `with` statement to create a binary file handle in write mode (`\"wb\"`) to a file called `\"mybinary.dat\"`."
   ]
  },
  {
   "cell_type": "markdown",
   "metadata": {},
   "source": [
    "Write the binary data to the file."
   ]
  },
  {
   "cell_type": "code",
   "execution_count": 10,
   "metadata": {},
   "outputs": [],
   "source": [
    "with open(\"mybinary.dat\", \"wb\") as bwriter:\n",
    "    bwriter.write(bin_data)"
   ]
  },
  {
   "cell_type": "code",
   "execution_count": 11,
   "metadata": {},
   "outputs": [],
   "source": [
    "# note - if you open \"mybinary.dat\" in the notebook, you will find that \n",
    "# although you can open it, the contents are not human-readable"
   ]
  },
  {
   "cell_type": "markdown",
   "metadata": {},
   "source": [
    "Use the `with` statement to open the file (in binary read mode)."
   ]
  },
  {
   "cell_type": "markdown",
   "metadata": {},
   "source": [
    "Read the contents of the file into a variable called `bin_data2`."
   ]
  },
  {
   "cell_type": "code",
   "execution_count": 12,
   "metadata": {},
   "outputs": [],
   "source": [
    "with open(\"mybinary.dat\", \"rb\") as breader:\n",
    "    bin_data2 = breader.read()"
   ]
  },
  {
   "cell_type": "markdown",
   "metadata": {},
   "source": [
    "Unpack the binary data using:\n",
    "```\n",
    "data = struct.unpack(\"bbbb\", bin_data2)\n",
    "```"
   ]
  },
  {
   "cell_type": "code",
   "execution_count": 13,
   "metadata": {},
   "outputs": [],
   "source": [
    "data = struct.unpack(\"bbbb\", bin_data2)  # note - this depends on the \"import struct\" above"
   ]
  },
  {
   "cell_type": "markdown",
   "metadata": {},
   "source": [
    "Print the `data` variable to check it contains the same four values you started with."
   ]
  },
  {
   "cell_type": "code",
   "execution_count": 14,
   "metadata": {},
   "outputs": [
    {
     "name": "stdout",
     "output_type": "stream",
     "text": [
      "(123, 12, 45, 34)\n"
     ]
    }
   ],
   "source": [
    "print(data)"
   ]
  }
 ],
 "metadata": {
  "kernelspec": {
   "display_name": "Python 3 + Jaspy",
   "language": "python",
   "name": "jaspy"
  },
  "language_info": {
   "codemirror_mode": {
    "name": "ipython",
    "version": 3
   },
   "file_extension": ".py",
   "mimetype": "text/x-python",
   "name": "python",
   "nbconvert_exporter": "python",
   "pygments_lexer": "ipython3",
   "version": "3.8.12"
  }
 },
 "nbformat": 4,
 "nbformat_minor": 4
}
