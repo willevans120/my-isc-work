{
 "cells": [
  {
   "cell_type": "markdown",
   "metadata": {},
   "source": [
    "# Using Jupyter Notebooks on JASMIN"
   ]
  },
  {
   "cell_type": "markdown",
   "metadata": {},
   "source": [
    "## Pre-condition - JASMIN Accounts Portal username and password\n",
    "\n",
    "If you are using a _JASMIN Training Account_ then you will have a username _without_ a password. \n",
    "\n",
    "1. Ask for a password reset, giving the email address related to your JASMIN account:\n",
    "    https://accounts.jasmin.ac.uk/account/password_reset/\n",
    "\n",
    "2. When you receive the email, follow the link and create password (for use with the Accounts Portal and Notebook Service).\n",
    "\n",
    "3. Once the password has been set, login to the Accounts Portal to check it works:\n",
    "    https://accounts.jasmin.ac.uk/account/login/"
   ]
  },
  {
   "cell_type": "markdown",
   "metadata": {},
   "source": [
    "## Starting the JASMIN Notebook Service\n",
    "\n",
    "- Go to: https://notebooks.jasmin.ac.uk/\n",
    "- Login with your JASMIN Accounts Portal username and password.\n",
    "- You may need to verify your email address - when prompted, click to send code and then enter the code from the email.\n",
    "- This should then start the Notebook Service in your web browser."
   ]
  },
  {
   "cell_type": "markdown",
   "metadata": {},
   "source": [
    "Congratulations, you have already loaded this notebook!\n",
    "\n",
    "Now let's try to use it! We'll get started with notebooks by running some very simple Python code.\n",
    "\n",
    "For example:"
   ]
  },
  {
   "cell_type": "code",
   "execution_count": 1,
   "metadata": {},
   "outputs": [
    {
     "data": {
      "text/plain": [
       "4"
      ]
     },
     "execution_count": 1,
     "metadata": {},
     "output_type": "execute_result"
    }
   ],
   "source": [
    "2 + 2"
   ]
  },
  {
   "cell_type": "markdown",
   "metadata": {},
   "source": [
    "Now type `2 + 2` or another similar expression into the empty cell below, and then press _Shift-Return_. It should display the result and then advance you onto the following cell (see blue bar to the left of the active cell).\n",
    "\n",
    "If it were at the end of the notebook, then _Shift-Return_ would then also create a new empty cell after it.\n",
    "But because there are already cells below it, this won't happen.\n",
    "\n",
    "So this time, click back into the cell again and press _Alt-Return_ instead. This will always create a new cell after executing the code in the cell, so this way you will be able to insert a cell in the middle of a notebook.\n",
    "\n",
    "Finally, try entering an expression into the new cell and press _Ctrl-Return_. This should display the result but without advancing you to the next cell."
   ]
  },
  {
   "cell_type": "code",
   "execution_count": null,
   "metadata": {},
   "outputs": [],
   "source": []
  },
  {
   "cell_type": "markdown",
   "metadata": {},
   "source": [
    "Now try deleting the following cell. You can do this by selecting it (click to the left of it rather than inside it) and pressing _D_ twice, or by Edit -> Delete Cells from the pull-down menus."
   ]
  },
  {
   "cell_type": "code",
   "execution_count": 2,
   "metadata": {},
   "outputs": [],
   "source": [
    "# Delete me!"
   ]
  },
  {
   "cell_type": "markdown",
   "metadata": {},
   "source": [
    "You can also enter more than one line of Python code into a single cell (just press _Return_ by itself to insert the newline).  Although only the final expression will be printed (if applicable), all the lines of code will run.  Here is an example using a variable (called `a`, with the value `10`), although we will cover variables more in the first actual Python lesson."
   ]
  },
  {
   "cell_type": "code",
   "execution_count": 3,
   "metadata": {},
   "outputs": [
    {
     "data": {
      "text/plain": [
       "12"
      ]
     },
     "execution_count": 3,
     "metadata": {},
     "output_type": "execute_result"
    }
   ],
   "source": [
    "a = 10\n",
    "a + 2"
   ]
  },
  {
   "cell_type": "markdown",
   "metadata": {},
   "source": [
    "And subsequent cells are run in the same Python session, so the results of commands in previous cells are still remembered. Here is an example:"
   ]
  },
  {
   "cell_type": "code",
   "execution_count": 4,
   "metadata": {},
   "outputs": [
    {
     "data": {
      "text/plain": [
       "13"
      ]
     },
     "execution_count": 4,
     "metadata": {},
     "output_type": "execute_result"
    }
   ],
   "source": [
    "a + 3"
   ]
  },
  {
   "cell_type": "markdown",
   "metadata": {},
   "source": [
    "Why not use the following empty cell as a starting point to experiment with this yourself? (Remember to use _Alt-Return_ if you want more than the one cell here to experiment in.)"
   ]
  },
  {
   "cell_type": "code",
   "execution_count": null,
   "metadata": {},
   "outputs": [],
   "source": []
  },
  {
   "cell_type": "markdown",
   "metadata": {},
   "source": [
    "You can also enter text (like this) by having a cell of type \"Markdown\". Change the cell type from \"Code\" to \"Markdown\" using the menu option at the top of the notebook pane.\n",
    "\n",
    "Markdown supports various types of simple syntax for entering formatting, for example `**like this**` for **bold** text. [Here](https://www.markdownguide.org/cheat-sheet/) is a \"cheat sheet\" showing some of the available syntax in Markdown.\n",
    "\n",
    "Try using the cell below in order to enter some markdown, after first changing the cell to the correct type. When you press _Shift-Enter_ (or _Ctrl-Enter_ or _Alt-Enter_ as applicable) it will be formatted for you.\n",
    "\n",
    "_Note: you can also switch a cell to Markdown by selecting it and then pressing Esc followed by M._"
   ]
  },
  {
   "cell_type": "code",
   "execution_count": null,
   "metadata": {},
   "outputs": [],
   "source": []
  },
  {
   "cell_type": "markdown",
   "metadata": {},
   "source": [
    "Now also let's try saving the notebook to disk.\n",
    "\n",
    "- You should see after you have been editing it, that in the top-right corner of the tab is a filled circle (●), indicating that there are unsaved changes.\n",
    "\n",
    "- Use _Ctrl-S_ or _File_ -> _Save Notebook_ to save the notebook. The filled circle should then change back to the usual ✕ symbol for closing the notebook.\n",
    "\n",
    "- If you really want to close without saving changes, click on the filled circle, and you will have the option to do so."
   ]
  }
 ],
 "metadata": {
  "kernelspec": {
   "display_name": "Python 3 + Jaspy",
   "language": "python",
   "name": "jaspy"
  },
  "language_info": {
   "codemirror_mode": {
    "name": "ipython",
    "version": 3
   },
   "file_extension": ".py",
   "mimetype": "text/x-python",
   "name": "python",
   "nbconvert_exporter": "python",
   "pygments_lexer": "ipython3",
   "version": "3.8.12"
  }
 },
 "nbformat": 4,
 "nbformat_minor": 4
}
